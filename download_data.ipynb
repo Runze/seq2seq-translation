{
 "cells": [
  {
   "cell_type": "code",
   "execution_count": 3,
   "metadata": {
    "collapsed": true
   },
   "outputs": [],
   "source": [
    "import gzip\n",
    "import os\n",
    "import tarfile\n",
    "from six.moves import urllib"
   ]
  },
  {
   "cell_type": "code",
   "execution_count": 6,
   "metadata": {
    "collapsed": false
   },
   "outputs": [],
   "source": [
    "url = 'http://www.statmt.org/wmt13/training-parallel-europarl-v7.tgz'\n",
    "filepath, _ = urllib.request.urlretrieve(url, 'data/training-parallel-europarl-v7.tgz')"
   ]
  },
  {
   "cell_type": "code",
   "execution_count": 11,
   "metadata": {
    "collapsed": false
   },
   "outputs": [],
   "source": [
    "tar = tarfile.open('data/training-parallel-europarl-v7.tgz', 'r')\n",
    "for item in tar:\n",
    "    tar.extract(item, 'data')\n",
    "    if item.name.find(\".tgz\") != -1 or item.name.find(\".tar\") != -1:\n",
    "        extract(item.name, \"./\" + item.name[:item.name.rfind('/')])"
   ]
  }
 ],
 "metadata": {
  "kernelspec": {
   "display_name": "Python 2 (General DS)",
   "language": "python",
   "name": "python2"
  },
  "language_info": {
   "codemirror_mode": {
    "name": "ipython",
    "version": 2
   },
   "file_extension": ".py",
   "mimetype": "text/x-python",
   "name": "python",
   "nbconvert_exporter": "python",
   "pygments_lexer": "ipython2",
   "version": "2.7.10"
  }
 },
 "nbformat": 4,
 "nbformat_minor": 2
}
